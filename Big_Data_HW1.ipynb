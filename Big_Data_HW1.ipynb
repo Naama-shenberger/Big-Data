{
  "nbformat": 4,
  "nbformat_minor": 0,
  "metadata": {
    "colab": {
      "name": "Big-Data_HW1.ipynb",
      "provenance": [],
      "authorship_tag": "ABX9TyMTs8SK7LnZ0RWfQqW2T1DU",
      "include_colab_link": true
    },
    "kernelspec": {
      "name": "python3",
      "display_name": "Python 3"
    },
    "language_info": {
      "name": "python"
    }
  },
  "cells": [
    {
      "cell_type": "markdown",
      "metadata": {
        "id": "view-in-github",
        "colab_type": "text"
      },
      "source": [
        "<a href=\"https://colab.research.google.com/github/Naama-shenberger/Big-Data/blob/main/Big_Data_HW1.ipynb\" target=\"_parent\"><img src=\"https://colab.research.google.com/assets/colab-badge.svg\" alt=\"Open In Colab\"/></a>"
      ]
    },
    {
      "cell_type": "code",
      "execution_count": null,
      "metadata": {
        "id": "edviaDmw_nQy"
      },
      "outputs": [],
      "source": [
        "# Git with colab "
      ]
    }
  ]
}