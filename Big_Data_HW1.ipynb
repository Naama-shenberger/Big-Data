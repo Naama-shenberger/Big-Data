{
  "nbformat": 4,
  "nbformat_minor": 0,
  "metadata": {
    "colab": {
      "name": "Big-Data_HW1.ipynb",
      "provenance": [],
      "authorship_tag": "ABX9TyPSr6s6UE/RC+KSJ++TUE8t",
      "include_colab_link": true
    },
    "kernelspec": {
      "name": "ir",
      "display_name": "R"
    },
    "language_info": {
      "name": "R"
    }
  },
  "cells": [
    {
      "cell_type": "markdown",
      "metadata": {
        "id": "view-in-github",
        "colab_type": "text"
      },
      "source": [
        "<a href=\"https://colab.research.google.com/github/Naama-shenberger/Big-Data/blob/main/Big_Data_HW1.ipynb\" target=\"_parent\"><img src=\"https://colab.research.google.com/assets/colab-badge.svg\" alt=\"Open In Colab\"/></a>"
      ]
    },
    {
      "cell_type": "code",
      "source": [
        "install.packages(\"rgl\", repos = \"http://cran.rstudio.com/\")\n",
        "install.packages(\"ConsRank\", repos = \"http://cran.rstudio.com/\")\n",
        "library(\"ConsRank\")"
      ],
      "metadata": {
        "colab": {
          "base_uri": "https://localhost:8080/"
        },
        "id": "fI6U2Gor9tPp",
        "outputId": "a94f7b99-beed-4334-e773-3b23c28908c2"
      },
      "execution_count": null,
      "outputs": [
        {
          "output_type": "stream",
          "name": "stderr",
          "text": [
            "Installing package into ‘/usr/local/lib/R/site-library’\n",
            "(as ‘lib’ is unspecified)\n",
            "\n",
            "also installing the dependency ‘htmlwidgets’\n",
            "\n",
            "\n",
            "Installing package into ‘/usr/local/lib/R/site-library’\n",
            "(as ‘lib’ is unspecified)\n",
            "\n",
            "also installing the dependencies ‘XML’, ‘rlist’, ‘proxy’, ‘gtools’\n",
            "\n",
            "\n",
            "Loading required package: rgl\n",
            "\n",
            "Warning message in rgl.init(initValue, onlyNULL):\n",
            "“RGL: unable to open X11 display”\n",
            "Warning message:\n",
            "“'rgl.init' failed, running with 'rgl.useNULL = TRUE'.”\n",
            "\n",
            "Attaching package: ‘ConsRank’\n",
            "\n",
            "\n",
            "The following object is masked from ‘package:base’:\n",
            "\n",
            "    labels\n",
            "\n",
            "\n"
          ]
        }
      ]
    },
    {
      "cell_type": "code",
      "source": [
        "install.packages(\"dplyr\")\n",
        "install.packages(\"tidyr\")\n",
        "install.packages(\"matrixcalc\")\n",
        "install.packages(\"zoo\")\n",
        "library(dplyr)\n",
        "library(tidyr)\n",
        "library(matrixcalc)\n",
        "library(zoo)"
      ],
      "metadata": {
        "colab": {
          "base_uri": "https://localhost:8080/"
        },
        "id": "nSZSOjIK-dEM",
        "outputId": "5fb0d712-9bf0-48a5-fa25-1f4e9389b00d"
      },
      "execution_count": null,
      "outputs": [
        {
          "output_type": "stream",
          "name": "stderr",
          "text": [
            "Installing package into ‘/usr/local/lib/R/site-library’\n",
            "(as ‘lib’ is unspecified)\n",
            "\n",
            "Installing package into ‘/usr/local/lib/R/site-library’\n",
            "(as ‘lib’ is unspecified)\n",
            "\n",
            "Installing package into ‘/usr/local/lib/R/site-library’\n",
            "(as ‘lib’ is unspecified)\n",
            "\n",
            "Installing package into ‘/usr/local/lib/R/site-library’\n",
            "(as ‘lib’ is unspecified)\n",
            "\n",
            "\n",
            "Attaching package: ‘dplyr’\n",
            "\n",
            "\n",
            "The following objects are masked from ‘package:stats’:\n",
            "\n",
            "    filter, lag\n",
            "\n",
            "\n",
            "The following objects are masked from ‘package:base’:\n",
            "\n",
            "    intersect, setdiff, setequal, union\n",
            "\n",
            "\n",
            "\n",
            "Attaching package: ‘zoo’\n",
            "\n",
            "\n",
            "The following objects are masked from ‘package:base’:\n",
            "\n",
            "    as.Date, as.Date.numeric\n",
            "\n",
            "\n"
          ]
        }
      ]
    },
    {
      "cell_type": "code",
      "source": [
        "\n",
        "#Reading Data\n",
        "A <- read.delim(\"/content/table.tsv\")\n",
        "A$DateTime <- as.POSIXct( A$megawatthours, tz = \"EST\", \"%H:%M EST %m/%d/%Y\" )\n",
        "# Remove duplicate rows in the dataframe\n",
        "A<-distinct(A)\n",
        "\n",
        "# The dimensions of the cube are the districts (each net.number is a district) and the dimension of date time.\n",
        "data_cube<- with(A,cbind(BPAT=Net.generation,CISO\t=Net.generation.1, CPLE=Net.generation.2,ERCO= Net.generation.3, FPL=Net.generation.4,ISNE= Net.generation.5,MISO= Net.generation.6,\n",
        "                         NYIS =Net.generation.7 , PACW=Net.generation.8 , PJM=Net.generation.9 ,United_States_Lower = Net.generation.10,Date=as.integer(format(as.Date(A[,'DateTime']), \"%Y%m%d\"))))\n",
        "\n",
        "#Performing Slicing on Data cube - from all days to 07-14 Feb only.\n",
        "index<-which(A[,'DateTime']>as.character.POSIXt(\"2021-02-06\") & A[,'DateTime']<as.character.POSIXt(\"2021-02-15\") )\n",
        "Silce_cube<-data_cube[index,]\n",
        "\n",
        "class(Silce_cube)\n",
        "\n",
        "#Performing roll up - from a days and hours to days only.\n",
        "up <- cut(as.integer(format(Silce_cube[,'Date'])),\n",
        "          as.integer(format(as.Date(c(seq(as.Date(\"2021-02-06\"),to=as.Date(\"2021-02-14\"),by=\"days\"))), \"%Y%m%d\")),\n",
        "          dig.lab = 5)\n",
        "up.group <- split(format(A[index,'DateTime']), up )\n",
        "n.decade_levels <- length(up.group)\n",
        "print (up.group)\n",
        "\n",
        "\n",
        "data_cube<-na.locf(na.locf(data_cube),fromLast=TRUE)\n",
        "\n",
        "temp<-data_cube[index,]\n",
        "\n",
        "rownames(temp) <- c(temp[,\"Date\"])\n",
        "temp<-temp[,colnames(temp)!=\"Date\"]\n",
        "\n",
        "roll_up <-  rowsum(temp,row.names(temp))\n",
        "mean<-rowMeans(roll_up[,1:11])\n",
        "\n",
        "\n",
        "D_f<-tibble(mean)\n",
        "Days_<- as.integer(substr(names(roll_up[,1]), nchar(names(roll_up[,1])) - 2 + 1, nchar(names(roll_up[,1]))) )\n",
        "# create an empty plot\n",
        "plot(1, type=\"n\", xlab=\"\", ylab=\"\", xlim = c(Days_[1],Days_[9]), ylim=c(1505748 ,1900000 ))\n",
        "# rearrange in a new, temporary dataframe\n",
        "DF <- data.frame ( Time = Days_, Demand = D_f)\n",
        "# plot\n",
        "lines( DF, col = 'darkorchid1', type = 'b' )\n",
        "title(main = \"Mean daily power generation in the US\",\n",
        "      xlab = \"Days (07-14 Feb)\", ylab = \"Net generation\",\n",
        "      cex.main = 2,   font.main = 2, col.main = \"darkorchid1\")\n",
        "\n",
        "\n",
        "\n"
      ],
      "metadata": {
        "colab": {
          "base_uri": "https://localhost:8080/",
          "height": 1000
        },
        "id": "rVEpnY4J-qlG",
        "outputId": "e61871a4-9f1f-44f5-afbc-6014b85e15a8"
      },
      "execution_count": null,
      "outputs": [
        {
          "output_type": "display_data",
          "data": {
            "text/html": [
              "<style>\n",
              ".list-inline {list-style: none; margin:0; padding: 0}\n",
              ".list-inline>li {display: inline-block}\n",
              ".list-inline>li:not(:last-child)::after {content: \"\\00b7\"; padding: 0 .5ex}\n",
              "</style>\n",
              "<ol class=list-inline><li>'matrix'</li><li>'array'</li></ol>\n"
            ],
            "text/markdown": "1. 'matrix'\n2. 'array'\n\n\n",
            "text/latex": "\\begin{enumerate*}\n\\item 'matrix'\n\\item 'array'\n\\end{enumerate*}\n",
            "text/plain": [
              "[1] \"matrix\" \"array\" "
            ]
          },
          "metadata": {}
        },
        {
          "output_type": "stream",
          "name": "stdout",
          "text": [
            "$`(20210206,20210207]`\n",
            " [1] \"2021-02-06 19:00:00\" \"2021-02-06 20:00:00\" \"2021-02-06 21:00:00\"\n",
            " [4] \"2021-02-06 22:00:00\" \"2021-02-06 23:00:00\" \"2021-02-07 00:00:00\"\n",
            " [7] \"2021-02-07 01:00:00\" \"2021-02-07 02:00:00\" \"2021-02-07 03:00:00\"\n",
            "[10] \"2021-02-07 04:00:00\" \"2021-02-07 05:00:00\" \"2021-02-07 06:00:00\"\n",
            "[13] \"2021-02-07 07:00:00\" \"2021-02-07 08:00:00\" \"2021-02-07 09:00:00\"\n",
            "[16] \"2021-02-07 10:00:00\" \"2021-02-07 11:00:00\" \"2021-02-07 12:00:00\"\n",
            "[19] \"2021-02-07 13:00:00\" \"2021-02-07 14:00:00\" \"2021-02-07 15:00:00\"\n",
            "[22] \"2021-02-07 16:00:00\" \"2021-02-07 17:00:00\" \"2021-02-07 18:00:00\"\n",
            "\n",
            "$`(20210207,20210208]`\n",
            " [1] \"2021-02-07 19:00:00\" \"2021-02-07 20:00:00\" \"2021-02-07 21:00:00\"\n",
            " [4] \"2021-02-07 22:00:00\" \"2021-02-07 23:00:00\" \"2021-02-08 00:00:00\"\n",
            " [7] \"2021-02-08 01:00:00\" \"2021-02-08 02:00:00\" \"2021-02-08 03:00:00\"\n",
            "[10] \"2021-02-08 04:00:00\" \"2021-02-08 05:00:00\" \"2021-02-08 06:00:00\"\n",
            "[13] \"2021-02-08 07:00:00\" \"2021-02-08 08:00:00\" \"2021-02-08 09:00:00\"\n",
            "[16] \"2021-02-08 10:00:00\" \"2021-02-08 11:00:00\" \"2021-02-08 12:00:00\"\n",
            "[19] \"2021-02-08 13:00:00\" \"2021-02-08 14:00:00\" \"2021-02-08 15:00:00\"\n",
            "[22] \"2021-02-08 16:00:00\" \"2021-02-08 17:00:00\" \"2021-02-08 18:00:00\"\n",
            "\n",
            "$`(20210208,20210209]`\n",
            " [1] \"2021-02-08 19:00:00\" \"2021-02-08 20:00:00\" \"2021-02-08 21:00:00\"\n",
            " [4] \"2021-02-08 22:00:00\" \"2021-02-08 23:00:00\" \"2021-02-09 00:00:00\"\n",
            " [7] \"2021-02-09 01:00:00\" \"2021-02-09 02:00:00\" \"2021-02-09 03:00:00\"\n",
            "[10] \"2021-02-09 04:00:00\" \"2021-02-09 05:00:00\" \"2021-02-09 06:00:00\"\n",
            "[13] \"2021-02-09 07:00:00\" \"2021-02-09 08:00:00\" \"2021-02-09 09:00:00\"\n",
            "[16] \"2021-02-09 10:00:00\" \"2021-02-09 11:00:00\" \"2021-02-09 12:00:00\"\n",
            "[19] \"2021-02-09 13:00:00\" \"2021-02-09 14:00:00\" \"2021-02-09 15:00:00\"\n",
            "[22] \"2021-02-09 16:00:00\" \"2021-02-09 17:00:00\" \"2021-02-09 18:00:00\"\n",
            "\n",
            "$`(20210209,20210210]`\n",
            " [1] \"2021-02-09 19:00:00\" \"2021-02-09 20:00:00\" \"2021-02-09 21:00:00\"\n",
            " [4] \"2021-02-09 22:00:00\" \"2021-02-09 23:00:00\" \"2021-02-10 00:00:00\"\n",
            " [7] \"2021-02-10 01:00:00\" \"2021-02-10 02:00:00\" \"2021-02-10 03:00:00\"\n",
            "[10] \"2021-02-10 04:00:00\" \"2021-02-10 05:00:00\" \"2021-02-10 06:00:00\"\n",
            "[13] \"2021-02-10 07:00:00\" \"2021-02-10 08:00:00\" \"2021-02-10 09:00:00\"\n",
            "[16] \"2021-02-10 10:00:00\" \"2021-02-10 11:00:00\" \"2021-02-10 12:00:00\"\n",
            "[19] \"2021-02-10 13:00:00\" \"2021-02-10 14:00:00\" \"2021-02-10 15:00:00\"\n",
            "[22] \"2021-02-10 16:00:00\" \"2021-02-10 17:00:00\" \"2021-02-10 18:00:00\"\n",
            "\n",
            "$`(20210210,20210211]`\n",
            " [1] \"2021-02-10 19:00:00\" \"2021-02-10 20:00:00\" \"2021-02-10 21:00:00\"\n",
            " [4] \"2021-02-10 22:00:00\" \"2021-02-10 23:00:00\" \"2021-02-11 00:00:00\"\n",
            " [7] \"2021-02-11 01:00:00\" \"2021-02-11 02:00:00\" \"2021-02-11 03:00:00\"\n",
            "[10] \"2021-02-11 04:00:00\" \"2021-02-11 05:00:00\" \"2021-02-11 06:00:00\"\n",
            "[13] \"2021-02-11 07:00:00\" \"2021-02-11 08:00:00\" \"2021-02-11 09:00:00\"\n",
            "[16] \"2021-02-11 10:00:00\" \"2021-02-11 11:00:00\" \"2021-02-11 12:00:00\"\n",
            "[19] \"2021-02-11 13:00:00\" \"2021-02-11 14:00:00\" \"2021-02-11 15:00:00\"\n",
            "[22] \"2021-02-11 16:00:00\" \"2021-02-11 17:00:00\" \"2021-02-11 18:00:00\"\n",
            "\n",
            "$`(20210211,20210212]`\n",
            " [1] \"2021-02-12 01:00:00\" \"2021-02-12 02:00:00\" \"2021-02-12 03:00:00\"\n",
            " [4] \"2021-02-12 04:00:00\" \"2021-02-12 05:00:00\" \"2021-02-12 06:00:00\"\n",
            " [7] \"2021-02-12 07:00:00\" \"2021-02-12 08:00:00\" \"2021-02-12 09:00:00\"\n",
            "[10] \"2021-02-12 10:00:00\" \"2021-02-12 11:00:00\" \"2021-02-12 12:00:00\"\n",
            "[13] \"2021-02-12 13:00:00\" \"2021-02-12 14:00:00\" \"2021-02-12 15:00:00\"\n",
            "[16] \"2021-02-12 16:00:00\" \"2021-02-12 17:00:00\" \"2021-02-12 18:00:00\"\n",
            "[19] \"2021-02-11 19:00:00\" \"2021-02-11 20:00:00\" \"2021-02-11 21:00:00\"\n",
            "[22] \"2021-02-11 22:00:00\" \"2021-02-11 23:00:00\" \"2021-02-12 00:00:00\"\n",
            "\n",
            "$`(20210212,20210213]`\n",
            " [1] \"2021-02-12 19:00:00\" \"2021-02-12 20:00:00\" \"2021-02-12 21:00:00\"\n",
            " [4] \"2021-02-12 22:00:00\" \"2021-02-12 23:00:00\" \"2021-02-13 00:00:00\"\n",
            " [7] \"2021-02-13 01:00:00\" \"2021-02-13 02:00:00\" \"2021-02-13 03:00:00\"\n",
            "[10] \"2021-02-13 04:00:00\" \"2021-02-13 05:00:00\" \"2021-02-13 06:00:00\"\n",
            "[13] \"2021-02-13 07:00:00\" \"2021-02-13 08:00:00\" \"2021-02-13 09:00:00\"\n",
            "[16] \"2021-02-13 10:00:00\" \"2021-02-13 11:00:00\" \"2021-02-13 12:00:00\"\n",
            "[19] \"2021-02-13 13:00:00\" \"2021-02-13 14:00:00\" \"2021-02-13 15:00:00\"\n",
            "[22] \"2021-02-13 16:00:00\" \"2021-02-13 17:00:00\" \"2021-02-13 18:00:00\"\n",
            "\n",
            "$`(20210213,20210214]`\n",
            " [1] \"2021-02-13 19:00:00\" \"2021-02-13 20:00:00\" \"2021-02-13 21:00:00\"\n",
            " [4] \"2021-02-13 22:00:00\" \"2021-02-13 23:00:00\" \"2021-02-14 00:00:00\"\n",
            " [7] \"2021-02-14 01:00:00\" \"2021-02-14 02:00:00\" \"2021-02-14 03:00:00\"\n",
            "[10] \"2021-02-14 04:00:00\" \"2021-02-14 05:00:00\" \"2021-02-14 06:00:00\"\n",
            "[13] \"2021-02-14 07:00:00\" \"2021-02-14 08:00:00\" \"2021-02-14 09:00:00\"\n",
            "[16] \"2021-02-14 10:00:00\" \"2021-02-14 11:00:00\" \"2021-02-14 12:00:00\"\n",
            "[19] \"2021-02-14 13:00:00\" \"2021-02-14 14:00:00\" \"2021-02-14 15:00:00\"\n",
            "[22] \"2021-02-14 16:00:00\" \"2021-02-14 17:00:00\" \"2021-02-14 18:00:00\"\n",
            "\n"
          ]
        },
        {
          "output_type": "display_data",
          "data": {
            "text/plain": [
              "Plot with title “Mean daily power generation in the US”"
            ],
            "image/png": "[encoded data removed]"
          },
          "metadata": {
            "image/png": {
              "width": 420,
              "height": 420
            }
          }
        }
      ]
    }
  ]
}